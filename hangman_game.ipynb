{
  "nbformat": 4,
  "nbformat_minor": 0,
  "metadata": {
    "colab": {
      "provenance": [],
      "authorship_tag": "ABX9TyPNbgRTV51oPpqlZ7CDAnQj",
      "include_colab_link": true
    },
    "kernelspec": {
      "name": "python3",
      "display_name": "Python 3"
    },
    "language_info": {
      "name": "python"
    }
  },
  "cells": [
    {
      "cell_type": "markdown",
      "metadata": {
        "id": "view-in-github",
        "colab_type": "text"
      },
      "source": [
        "<a href=\"https://colab.research.google.com/github/Bushraturk/project-5-Hangman-Game-In-Python/blob/main/hangman_game.ipynb\" target=\"_parent\"><img src=\"https://colab.research.google.com/assets/colab-badge.svg\" alt=\"Open In Colab\"/></a>"
      ]
    },
    {
      "cell_type": "markdown",
      "source": [
        "project 5: Hangman Game In Python\n",
        "\n"
      ],
      "metadata": {
        "id": "JUtgR0indcQn"
      }
    },
    {
      "cell_type": "code",
      "source": [
        "# Project 5 Hangman Game In Python\n",
        "import random\n",
        "words = [\"enum\", \"python\", \"collab\", \"vscode\", \"game\"]\n",
        "word = random.choice(words)\n",
        "guessed_letters = []\n",
        "attempts = 6\n",
        "\n",
        "print(\"Welcome to Hangman!\")\n",
        "print(\"_\" *len(word))\n",
        "\n",
        "while attempts > 0:\n",
        "    guess = input(\"\\nGuess a letter: \").lower() # Fixed: Changed /n to \\n for newline\n",
        "    if len(guess) != 1 or not guess.isalpha():\n",
        "        print(\"Please enter a single letter.\")\n",
        "        continue\n",
        "    if guess in guessed_letters:\n",
        "        print(\"You already guessed that letter.\")\n",
        "        continue\n",
        "    guessed_letters.append(guess)\n",
        "\n",
        "    if guess in word:\n",
        "        print(\"Good guess!\")\n",
        "\n",
        "    else:\n",
        "        attempts -= 1\n",
        "        print(f\"Wrong {attempts} guess!\") # Fixed: Added space after \"Wrong\"\n",
        "\n",
        "    display_word = \" \".join([letter if letter in guessed_letters else \"_\" for letter in word]) # Fixed: Indentation\n",
        "    print(display_word) # Fixed: Changed \"displayed_word\" to display_word to print the variable's value\n",
        "\n",
        "    if \"_\" not in display_word: # Fixed: Indentation\n",
        "        print(f\"Congratulation! the correct word is {word}\")  # Fixed: Changed words to word to print the chosen word\n",
        "        break\n",
        "    else: # Fixed: Indentation\n",
        "        #print(f\"Game Over! the correct word is: {word}\") # Fixed: Changed words to word, indented correctly, and removed unnecessary print statement as it prints in the if block as well\n",
        "\n",
        "        if attempts == 0:\n",
        "            print(f\"Game Over! the correct word is: {word}\")"
      ],
      "metadata": {
        "colab": {
          "base_uri": "https://localhost:8080/"
        },
        "id": "JR0k22QNoJUw",
        "outputId": "14c05ce3-e689-4e72-fd62-309b6395510d"
      },
      "execution_count": null,
      "outputs": [
        {
          "output_type": "stream",
          "name": "stdout",
          "text": [
            "Welcome to Hangman!\n",
            "____\n",
            "\n",
            "Guess a letter: enum\n",
            "Please enter a single letter.\n",
            "\n",
            "Guess a letter: e\n",
            "Good guess!\n",
            "_ _ _ e\n",
            "\n",
            "Guess a letter: d\n",
            "Wrong 5 guess!\n",
            "_ _ _ e\n",
            "\n",
            "Guess a letter: m\n",
            "Good guess!\n",
            "_ _ m e\n",
            "\n",
            "Guess a letter: a\n",
            "Good guess!\n",
            "_ a m e\n",
            "\n",
            "Guess a letter: g\n",
            "Good guess!\n",
            "g a m e\n",
            "Congratulation! the correct word is game\n"
          ]
        }
      ]
    }
  ]
}